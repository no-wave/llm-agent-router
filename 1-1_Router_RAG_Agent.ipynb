{
 "cells": [
  {
   "cell_type": "markdown",
   "metadata": {},
   "source": [
    "# Router RAG Agent Basic\n",
    "\n",
    "\n",
    "Router RAG Agent는 사용자의 질문을 분석하여 적절한 RAG(Retrieval-Augmented Generation) 데이터베이스로 라우팅하는 시스템이다. 예를 들어 기술 문서, 제품 정보, FAQ 등 여러 도메인의 문서가 있을 때, 질문의 특성에 따라 가장 관련성 높은 데이터베이스를 선택하여 검색한다.\n",
    "\n",
    "기본 작동 원리는 다음과 같다:\n",
    "1. 사용자 질문을 입력받는다\n",
    "2. LLM이 질문의 카테고리를 분류한다\n",
    "3. 분류된 카테고리에 해당하는 RAG 데이터베이스에서 검색한다\n",
    "4. 검색된 정보를 바탕으로 최종 답변을 생성한다"
   ]
  },
  {
   "cell_type": "code",
   "execution_count": null,
   "metadata": {},
   "outputs": [],
   "source": [
    "# 필요한 라이브러리 설치\n",
    "%pip install -q openai"
   ]
  },
  {
   "cell_type": "code",
   "execution_count": 1,
   "metadata": {},
   "outputs": [
    {
     "data": {
      "text/plain": [
       "True"
      ]
     },
     "execution_count": 1,
     "metadata": {},
     "output_type": "execute_result"
    }
   ],
   "source": [
    "from dotenv import load_dotenv\n",
    "import os\n",
    "\n",
    "# .env 파일에 key를 저장하고 환경 변수를 로드한다\n",
    "!echo \"OPENAI_API_KEY=<sk-proj로 시작하는 OpenAI API Key를 복사 후 붙혀넣기>\" >> .env\n",
    "load_dotenv()"
   ]
  },
  {
   "cell_type": "code",
   "execution_count": 2,
   "metadata": {},
   "outputs": [],
   "source": [
    "from openai import OpenAI\n",
    "import json\n",
    "\n",
    "# OpenAI 클라이언트 초기화\n",
    "client = OpenAI()"
   ]
  },
  {
   "cell_type": "code",
   "execution_count": 3,
   "metadata": {},
   "outputs": [],
   "source": [
    "# 각 카테고리별 RAG 데이터베이스 (간단한 예시)\n",
    "rag_databases = {\n",
    "    \"기술문서\": [\n",
    "        \"Python은 고수준 프로그래밍 언어이다.\",\n",
    "        \"REST API는 HTTP 프로토콜을 사용한다.\",\n",
    "        \"Docker는 컨테이너 기반 가상화 플랫폼이다.\"\n",
    "    ],\n",
    "    \"제품정보\": [\n",
    "        \"스마트폰 X는 6.5인치 디스플레이를 탑재했다.\",\n",
    "        \"노트북 Y는 16GB RAM을 기본 제공한다.\",\n",
    "        \"태블릿 Z는 방수 기능이 있다.\"\n",
    "    ],\n",
    "    \"FAQ\": [\n",
    "        \"배송은 주문 후 2-3일 소요된다.\",\n",
    "        \"환불은 구매 후 7일 이내 가능하다.\",\n",
    "        \"고객센터는 평일 9시부터 6시까지 운영한다.\"\n",
    "    ]\n",
    "}"
   ]
  },
  {
   "cell_type": "code",
   "execution_count": 4,
   "metadata": {},
   "outputs": [],
   "source": [
    "def classify_query(query):\n",
    "    \"\"\"질문을 분석하여 적절한 카테고리로 분류한다\"\"\"\n",
    "    \n",
    "    prompt = f\"\"\"\n",
    "    다음 질문을 분석하여 가장 적절한 카테고리를 선택하라.\n",
    "    \n",
    "    카테고리: 기술문서, 제품정보, FAQ\n",
    "    \n",
    "    질문: {query}\n",
    "    \n",
    "    카테고리 하나만 답변하라.\n",
    "    \"\"\"\n",
    "    \n",
    "    response = client.chat.completions.create(\n",
    "        model=\"gpt-4o-mini\",\n",
    "        messages=[{\"role\": \"user\", \"content\": prompt}],\n",
    "        temperature=0\n",
    "    )\n",
    "    \n",
    "    category = response.choices[0].message.content.strip()\n",
    "    return category"
   ]
  },
  {
   "cell_type": "code",
   "execution_count": 5,
   "metadata": {},
   "outputs": [],
   "source": [
    "def retrieve_from_rag(category, query):\n",
    "    \"\"\"선택된 카테고리의 RAG 데이터베이스에서 관련 정보를 검색한다\"\"\"\n",
    "    \n",
    "    # 해당 카테고리의 모든 문서를 가져온다 (실제로는 벡터 유사도 검색 사용)\n",
    "    documents = rag_databases.get(category, [])\n",
    "    \n",
    "    # 간단한 키워드 매칭 (실제로는 임베딩 기반 검색)\n",
    "    relevant_docs = documents\n",
    "    \n",
    "    return relevant_docs"
   ]
  },
  {
   "cell_type": "code",
   "execution_count": 6,
   "metadata": {},
   "outputs": [],
   "source": [
    "def generate_answer(query, context):\n",
    "    \"\"\"검색된 문서를 바탕으로 최종 답변을 생성한다\"\"\"\n",
    "    \n",
    "    prompt = f\"\"\"\n",
    "    다음 정보를 바탕으로 질문에 답변하라.\n",
    "    \n",
    "    정보:\n",
    "    {context}\n",
    "    \n",
    "    질문: {query}\n",
    "    \n",
    "    답변:\n",
    "    \"\"\"\n",
    "    \n",
    "    response = client.chat.completions.create(\n",
    "        model=\"gpt-4o-mini\",\n",
    "        messages=[{\"role\": \"user\", \"content\": prompt}],\n",
    "        temperature=0.7\n",
    "    )\n",
    "    \n",
    "    answer = response.choices[0].message.content\n",
    "    return answer"
   ]
  },
  {
   "cell_type": "code",
   "execution_count": 7,
   "metadata": {},
   "outputs": [],
   "source": [
    "def router_rag_agent(query):\n",
    "    \"\"\"Router RAG Agent의 전체 파이프라인을 실행한다\"\"\"\n",
    "    \n",
    "    print(f\"질문: {query}\\n\")\n",
    "    \n",
    "    # 1단계: 카테고리 분류\n",
    "    category = classify_query(query)\n",
    "    print(f\"분류된 카테고리: {category}\\n\")\n",
    "    \n",
    "    # 2단계: RAG 검색\n",
    "    documents = retrieve_from_rag(category, query)\n",
    "    context = \"\\n\".join(documents)\n",
    "    print(f\"검색된 문서:\\n{context}\\n\")\n",
    "    \n",
    "    # 3단계: 답변 생성\n",
    "    answer = generate_answer(query, context)\n",
    "    print(f\"최종 답변:\\n{answer}\")\n",
    "    \n",
    "    return answer"
   ]
  },
  {
   "cell_type": "code",
   "execution_count": 8,
   "metadata": {},
   "outputs": [
    {
     "name": "stdout",
     "output_type": "stream",
     "text": [
      "==============================\n",
      "질문: Python은 어떤 언어인가?\n",
      "\n",
      "분류된 카테고리: 기술문서\n",
      "\n",
      "검색된 문서:\n",
      "Python은 고수준 프로그래밍 언어이다.\n",
      "REST API는 HTTP 프로토콜을 사용한다.\n",
      "Docker는 컨테이너 기반 가상화 플랫폼이다.\n",
      "\n",
      "최종 답변:\n",
      "Python은 고수준 프로그래밍 언어입니다.\n",
      "==============================\n",
      "\n",
      "==============================\n",
      "질문: 노트북 Y의 사양이 궁금하다\n",
      "\n",
      "분류된 카테고리: 제품정보\n",
      "\n",
      "검색된 문서:\n",
      "스마트폰 X는 6.5인치 디스플레이를 탑재했다.\n",
      "노트북 Y는 16GB RAM을 기본 제공한다.\n",
      "태블릿 Z는 방수 기능이 있다.\n",
      "\n",
      "최종 답변:\n",
      "노트북 Y는 16GB RAM을 기본으로 제공하며, 그 외의 사양에 대한 정보는 제공되지 않았습니다. 추가적인 사양, 예를 들어 프로세서, 저장 용량, 그래픽 카드 등의 정보는 확인할 수 없습니다. 더 궁금한 사항이 있으시면 말씀해 주세요!\n",
      "==============================\n",
      "\n",
      "==============================\n",
      "질문: 배송은 얼마나 걸리나?\n",
      "\n",
      "분류된 카테고리: FAQ\n",
      "\n",
      "검색된 문서:\n",
      "배송은 주문 후 2-3일 소요된다.\n",
      "환불은 구매 후 7일 이내 가능하다.\n",
      "고객센터는 평일 9시부터 6시까지 운영한다.\n",
      "\n",
      "최종 답변:\n",
      "배송은 주문 후 2-3일 소요됩니다.\n",
      "==============================\n",
      "\n"
     ]
    }
   ],
   "source": [
    "# 테스트 실행\n",
    "test_queries = [\n",
    "    \"Python은 어떤 언어인가?\",\n",
    "    \"노트북 Y의 사양이 궁금하다\",\n",
    "    \"배송은 얼마나 걸리나?\"\n",
    "]\n",
    "\n",
    "for query in test_queries:\n",
    "    print(\"=\" * 30)\n",
    "    router_rag_agent(query)\n",
    "    print(\"=\" * 30)\n",
    "    print()"
   ]
  }
 ],
 "metadata": {
  "kernelspec": {
   "display_name": "lecture",
   "language": "python",
   "name": "lecture"
  },
  "language_info": {
   "codemirror_mode": {
    "name": "ipython",
    "version": 3
   },
   "file_extension": ".py",
   "mimetype": "text/x-python",
   "name": "python",
   "nbconvert_exporter": "python",
   "pygments_lexer": "ipython3",
   "version": "3.11.13"
  }
 },
 "nbformat": 4,
 "nbformat_minor": 4
}
